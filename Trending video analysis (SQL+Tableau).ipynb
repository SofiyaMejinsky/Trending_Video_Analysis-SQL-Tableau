{
 "cells": [
  {
   "cell_type": "code",
   "execution_count": 1,
   "metadata": {},
   "outputs": [],
   "source": [
    "# import libraries\n",
    "import pandas as pd\n",
    "from sqlalchemy import create_engine"
   ]
  },
  {
   "cell_type": "code",
   "execution_count": 2,
   "metadata": {},
   "outputs": [],
   "source": [
    "#creating connection to the database\n",
    "db_config = {'user': 'test',         # user name\n",
    "             'pwd': 'test', # password\n",
    "             'host': 'test',\n",
    "             'port': 6432,              # connection port\n",
    "             'db': 'test'}          # the name of the database\n",
    "\n",
    "connection_string = 'postgresql://{}:{}@{}:{}/{}'.format(db_config['user'], db_config['pwd'], db_config['host'], db_config['port'], db_config['db'])\n",
    "\n",
    "engine = create_engine(connection_string)"
   ]
  },
  {
   "cell_type": "markdown",
   "metadata": {},
   "source": [
    "The database connection is stored in the engine variable. Let's run an SQL query:"
   ]
  },
  {
   "cell_type": "code",
   "execution_count": 3,
   "metadata": {},
   "outputs": [],
   "source": [
    "query = '''SELECT * FROM trending_by_time'''\n",
    "trending_by_time = pd.io.sql.read_sql(query, con = engine, index_col = 'record_id')"
   ]
  },
  {
   "cell_type": "markdown",
   "metadata": {},
   "source": [
    "Let's download data from the trending_by_time table to the file trending_by_time.csv"
   ]
  },
  {
   "cell_type": "code",
   "execution_count": null,
   "metadata": {},
   "outputs": [],
   "source": [
    "trending_by_time.to_csv('trending_by_time.csv', index = False)"
   ]
  },
  {
   "cell_type": "markdown",
   "metadata": {},
   "source": [
    "### Studing the general information about table"
   ]
  },
  {
   "cell_type": "code",
   "execution_count": null,
   "metadata": {},
   "outputs": [],
   "source": [
    "#openinging the table\n",
    "df = pd.read_csv('trending_by_time.csv')"
   ]
  },
  {
   "cell_type": "code",
   "execution_count": 6,
   "metadata": {},
   "outputs": [
    {
     "name": "stdout",
     "output_type": "stream",
     "text": [
      "<class 'pandas.core.frame.DataFrame'>\n",
      "RangeIndex: 12343 entries, 0 to 12342\n",
      "Data columns (total 4 columns):\n",
      " #   Column          Non-Null Count  Dtype \n",
      "---  ------          --------------  ----- \n",
      " 0   region          12343 non-null  object\n",
      " 1   trending_date   12343 non-null  object\n",
      " 2   category_title  12343 non-null  object\n",
      " 3   videos_count    12343 non-null  int64 \n",
      "dtypes: int64(1), object(3)\n",
      "memory usage: 385.8+ KB\n"
     ]
    }
   ],
   "source": [
    "df.info()"
   ]
  },
  {
   "cell_type": "markdown",
   "metadata": {},
   "source": [
    "- there are no missing values"
   ]
  },
  {
   "cell_type": "code",
   "execution_count": 7,
   "metadata": {},
   "outputs": [
    {
     "data": {
      "text/html": [
       "<div>\n",
       "<style scoped>\n",
       "    .dataframe tbody tr th:only-of-type {\n",
       "        vertical-align: middle;\n",
       "    }\n",
       "\n",
       "    .dataframe tbody tr th {\n",
       "        vertical-align: top;\n",
       "    }\n",
       "\n",
       "    .dataframe thead th {\n",
       "        text-align: right;\n",
       "    }\n",
       "</style>\n",
       "<table border=\"1\" class=\"dataframe\">\n",
       "  <thead>\n",
       "    <tr style=\"text-align: right;\">\n",
       "      <th></th>\n",
       "      <th>region</th>\n",
       "      <th>trending_date</th>\n",
       "      <th>category_title</th>\n",
       "      <th>videos_count</th>\n",
       "    </tr>\n",
       "  </thead>\n",
       "  <tbody>\n",
       "    <tr>\n",
       "      <th>0</th>\n",
       "      <td>France</td>\n",
       "      <td>2017-11-14</td>\n",
       "      <td>Autos &amp; Vehicles</td>\n",
       "      <td>8</td>\n",
       "    </tr>\n",
       "    <tr>\n",
       "      <th>1</th>\n",
       "      <td>France</td>\n",
       "      <td>2017-11-15</td>\n",
       "      <td>Autos &amp; Vehicles</td>\n",
       "      <td>2</td>\n",
       "    </tr>\n",
       "    <tr>\n",
       "      <th>2</th>\n",
       "      <td>France</td>\n",
       "      <td>2017-11-16</td>\n",
       "      <td>Autos &amp; Vehicles</td>\n",
       "      <td>6</td>\n",
       "    </tr>\n",
       "    <tr>\n",
       "      <th>3</th>\n",
       "      <td>France</td>\n",
       "      <td>2017-11-17</td>\n",
       "      <td>Autos &amp; Vehicles</td>\n",
       "      <td>8</td>\n",
       "    </tr>\n",
       "    <tr>\n",
       "      <th>4</th>\n",
       "      <td>France</td>\n",
       "      <td>2017-11-18</td>\n",
       "      <td>Autos &amp; Vehicles</td>\n",
       "      <td>4</td>\n",
       "    </tr>\n",
       "  </tbody>\n",
       "</table>\n",
       "</div>"
      ],
      "text/plain": [
       "   region trending_date    category_title  videos_count\n",
       "0  France    2017-11-14  Autos & Vehicles             8\n",
       "1  France    2017-11-15  Autos & Vehicles             2\n",
       "2  France    2017-11-16  Autos & Vehicles             6\n",
       "3  France    2017-11-17  Autos & Vehicles             8\n",
       "4  France    2017-11-18  Autos & Vehicles             4"
      ]
     },
     "execution_count": 7,
     "metadata": {},
     "output_type": "execute_result"
    }
   ],
   "source": [
    "df.head()"
   ]
  },
  {
   "cell_type": "markdown",
   "metadata": {},
   "source": [
    "We have 4 columns:  \n",
    "- region - region \n",
    "- trending_date - date when videos in trends\n",
    "- category_title - specific category of videos\n",
    "- videos_count - number of videos in the trending section"
   ]
  },
  {
   "cell_type": "code",
   "execution_count": 8,
   "metadata": {},
   "outputs": [
    {
     "data": {
      "text/plain": [
       "Russia           2930\n",
       "United States    2860\n",
       "France           2774\n",
       "India            2283\n",
       "Japan            1496\n",
       "Name: region, dtype: int64"
      ]
     },
     "execution_count": 8,
     "metadata": {},
     "output_type": "execute_result"
    }
   ],
   "source": [
    "df.region.value_counts()"
   ]
  },
  {
   "cell_type": "markdown",
   "metadata": {},
   "source": [
    "- we have 5 regions"
   ]
  },
  {
   "cell_type": "code",
   "execution_count": 12,
   "metadata": {},
   "outputs": [
    {
     "name": "stdout",
     "output_type": "stream",
     "text": [
      "Start date: 2017-11-14\n",
      "End date: 2018-06-14\n"
     ]
    }
   ],
   "source": [
    "print('Start date:', df.trending_date.min())\n",
    "print('End date:', df.trending_date.max())"
   ]
  },
  {
   "cell_type": "markdown",
   "metadata": {},
   "source": [
    "First date in our data is 2017-11-14, last date: 2018-06-14"
   ]
  },
  {
   "cell_type": "code",
   "execution_count": 23,
   "metadata": {},
   "outputs": [
    {
     "name": "stdout",
     "output_type": "stream",
     "text": [
      "Number of categories: 18\n"
     ]
    },
    {
     "data": {
      "text/plain": [
       "People & Blogs           942\n",
       "Entertainment            942\n",
       "Comedy                   940\n",
       "News & Politics          939\n",
       "Film & Animation         938\n",
       "Music                    938\n",
       "Howto & Style            937\n",
       "Sports                   933\n",
       "Science & Technology     881\n",
       "Education                863\n",
       "Gaming                   767\n",
       "Autos & Vehicles         681\n",
       "Pets & Animals           674\n",
       "Travel & Events          489\n",
       "Shows                    406\n",
       "Nonprofits & Activism     49\n",
       "Movies                    22\n",
       "Trailers                   2\n",
       "Name: category_title, dtype: int64"
      ]
     },
     "execution_count": 23,
     "metadata": {},
     "output_type": "execute_result"
    }
   ],
   "source": [
    "print('Number of categories:', df.category_title.value_counts().count())\n",
    "df.category_title.value_counts()"
   ]
  },
  {
   "cell_type": "code",
   "execution_count": 14,
   "metadata": {},
   "outputs": [
    {
     "data": {
      "text/plain": [
       "count    12343.000000\n",
       "mean        27.545167\n",
       "std         29.793491\n",
       "min          2.000000\n",
       "25%          8.000000\n",
       "50%         18.000000\n",
       "75%         36.000000\n",
       "max        220.000000\n",
       "Name: videos_count, dtype: float64"
      ]
     },
     "execution_count": 14,
     "metadata": {},
     "output_type": "execute_result"
    }
   ],
   "source": [
    "df.videos_count.describe()"
   ]
  },
  {
   "cell_type": "markdown",
   "metadata": {},
   "source": [
    "Number of videos range from 2 to 220 per date.  \n",
    "Average number of videos per day is 27."
   ]
  },
  {
   "cell_type": "code",
   "execution_count": 21,
   "metadata": {},
   "outputs": [
    {
     "name": "stdout",
     "output_type": "stream",
     "text": [
      "Total number of videos: 339990\n"
     ]
    }
   ],
   "source": [
    "print('Total number of videos:', df.videos_count.sum())"
   ]
  },
  {
   "cell_type": "markdown",
   "metadata": {},
   "source": [
    "Let's create a dashboard.  \n",
    "Link to dashboard: https://public.tableau.com/profile/sofiya6834#!/vizhome/Project_10_16065728622970/Dashboard?publish=yes"
   ]
  },
  {
   "cell_type": "markdown",
   "metadata": {},
   "source": [
    "Link to presentation: https://docs.google.com/presentation/d/1kvj6hZn6V9X7Su9SqzLtFDLgDdOnGCIsz2B645lTojk/edit?usp=sharing"
   ]
  }
 ],
 "metadata": {
  "kernelspec": {
   "display_name": "Python 3",
   "language": "python",
   "name": "python3"
  },
  "language_info": {
   "codemirror_mode": {
    "name": "ipython",
    "version": 3
   },
   "file_extension": ".py",
   "mimetype": "text/x-python",
   "name": "python",
   "nbconvert_exporter": "python",
   "pygments_lexer": "ipython3",
   "version": "3.7.6"
  }
 },
 "nbformat": 4,
 "nbformat_minor": 4
}
